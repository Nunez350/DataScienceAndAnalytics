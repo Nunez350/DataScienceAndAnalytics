{
 "cells": [
  {
   "cell_type": "markdown",
   "metadata": {
    "deletable": false,
    "editable": false,
    "nbgrader": {
     "checksum": "81c9e50dc8dbb2f7d6d47bdc1eb44eac",
     "grade": false,
     "grade_id": "cell-eb51c5a6c8000a4e",
     "locked": true,
     "schema_version": 1,
     "solution": false
    }
   },
   "source": [
    "###### Let's start with importing what we need...  "
   ]
  },
  {
   "cell_type": "code",
   "execution_count": null,
   "metadata": {
    "deletable": false,
    "editable": false,
    "nbgrader": {
     "checksum": "dbd77cc0f6ace3c1ded6ea72540ee344",
     "grade": false,
     "grade_id": "cell-784431d974160030",
     "locked": true,
     "schema_version": 1,
     "solution": false
    }
   },
   "outputs": [],
   "source": [
    "import numpy as np\n",
    "import pandas as pd\n",
    "import matplotlib.pyplot as plt\n",
    "import statsmodels.api as sm\n",
    "from statsmodels.formula.api import ols\n",
    "from scipy.stats import norm\n",
    "from sklearn.model_selection import train_test_split\n",
    "from sklearn.metrics import r2_score\n",
    "from sklearn import datasets "
   ]
  },
  {
   "cell_type": "markdown",
   "metadata": {
    "deletable": false,
    "editable": false,
    "nbgrader": {
     "checksum": "4c6f90dce8b30c2c453ecc0277d95269",
     "grade": false,
     "grade_id": "cell-7686284e03a9d7b2",
     "locked": true,
     "schema_version": 1,
     "solution": false
    }
   },
   "source": [
    "###### Let's load the publicly available diabetes dataset and print out a description of the dataset"
   ]
  },
  {
   "cell_type": "markdown",
   "metadata": {
    "deletable": false,
    "editable": false,
    "nbgrader": {
     "checksum": "03851f0c06e4cc1caaea4e52c75043af",
     "grade": false,
     "grade_id": "cell-cb16e916069333c8",
     "locked": true,
     "schema_version": 1,
     "solution": false
    }
   },
   "source": [
    "###### Your task is to build the best linear regression model you can using this data to predict the 'target' field."
   ]
  },
  {
   "cell_type": "markdown",
   "metadata": {
    "deletable": false,
    "editable": false,
    "nbgrader": {
     "checksum": "4a5f171baa44bd773aa8e8ac7465e210",
     "grade": false,
     "grade_id": "cell-c96f1ba04e988ef1",
     "locked": true,
     "schema_version": 1,
     "solution": false
    }
   },
   "source": [
    "#### Diabetes dataset\n",
    "\n",
    "Ten baseline variables, age, sex, body mass index, average blood pressure, and six blood serum measurements were obtained for each of n = 442 diabetes patients, as well as the response of interest, a quantitative measure of disease progression one year after baseline.\n",
    "Data Set Characteristics\n",
    "Number of Instances: 442\n",
    "Number of Attributes\n",
    "First 10 columns are numeric predictive values\n",
    "Target: Column 11 is a quantitative measure of disease progression one year after baseline\n",
    "Attribute Information\n",
    " - age:     age in years <br>\n",
    "  - sex:     sex <br>\n",
    "  - bmi:     body mass index <br>\n",
    "  - bp:      average blood pressure <br>\n",
    "  - s1:      tc, total serum cholesterol <br>\n",
    "  - s2:      ldl, low-density lipoproteins <br>\n",
    "  - s3:      hdl, high-density lipoproteins <br>\n",
    "  - s4:      tch, total cholesterol / HDL <br>\n",
    "  - s5:      ltg, possibly log of serum triglycerides level <br>\n",
    "  - s6:      glu, blood sugar level <br>\n",
    "Note: Each of these 10 feature variables have been mean centered and scaled by the standard deviation times n_samples (i.e. the sum of squares of each column totals 1).\n",
    "Source URL\n",
    "https://www4.stat.ncsu.edu/~boos/var.select/diabetes.html\n",
    "For more information see:\n",
    "Bradley Efron, Trevor Hastie, Iain Johnstone and Robert Tibshirani (2004) \"Least Angle Regression,\" Annals of Statistics (with discussion), 407-499. (https://web.stanford.edu/~hastie/Papers/LARS/LeastAngle_2002.pdf)\n",
    "\n",
    "\n",
    "Source URL: https://www4.stat.ncsu.edu/~boos/var.select/diabetes.html\n",
    "Data URL: https://www4.stat.ncsu.edu/~boos/var.select/diabetes.tab.txt\n",
    "Note: The Data URL mentioned-above is obtained from the source URL. The source URL provides detailed information about the dataset, variables and also reference links including the dataset link.\n",
    "\n"
   ]
  },
  {
   "cell_type": "markdown",
   "metadata": {
    "deletable": false,
    "editable": false,
    "nbgrader": {
     "checksum": "741baec6d78946ba8620515f4a486fe9",
     "grade": false,
     "grade_id": "cell-82b7cb2db1be0026",
     "locked": true,
     "schema_version": 1,
     "solution": false
    }
   },
   "source": [
    "##### Read in data into a dataframe then print the dataframe head."
   ]
  },
  {
   "cell_type": "code",
   "execution_count": null,
   "metadata": {
    "deletable": false,
    "nbgrader": {
     "checksum": "c4e365a6ffacbd7bbbd4bceeb268fc0f",
     "grade": false,
     "grade_id": "cell-26aea6bc1fcf36d9",
     "locked": false,
     "schema_version": 1,
     "solution": true
    }
   },
   "outputs": [],
   "source": [
    " #Use this URL to read in the data into a pandas dataframe called \"df\".\n",
    "#Hint: set sep=\"\\t\" when reading in the csv file.\n",
    "url = \"https://www4.stat.ncsu.edu/~boos/var.select/diabetes.tab.txt\"\n",
    "df = pd.read_csv(url,sep='\\t')\n",
    "# YOUR CODE HERE\n",
    "# raise NotImplementedError()"
   ]
  },
  {
   "cell_type": "code",
   "execution_count": null,
   "metadata": {
    "deletable": false,
    "editable": false,
    "nbgrader": {
     "checksum": "d47bf65b97c24853ca48a33c1f06cefd",
     "grade": true,
     "grade_id": "cell-9e5e1e9454377b26",
     "locked": true,
     "points": 2,
     "schema_version": 1,
     "solution": false
    }
   },
   "outputs": [],
   "source": []
  },
  {
   "cell_type": "markdown",
   "metadata": {
    "deletable": false,
    "editable": false,
    "nbgrader": {
     "checksum": "94251dab622ae294b562c5f0d067c2b0",
     "grade": false,
     "grade_id": "cell-b171277c7933793c",
     "locked": true,
     "schema_version": 1,
     "solution": false
    }
   },
   "source": [
    "###### Basic field information"
   ]
  },
  {
   "cell_type": "code",
   "execution_count": null,
   "metadata": {
    "deletable": false,
    "editable": false,
    "nbgrader": {
     "checksum": "9a09b978a7d7e8ffc74d4d220ebe17ce",
     "grade": false,
     "grade_id": "cell-47ce9356e934e45b",
     "locked": true,
     "schema_version": 1,
     "solution": false
    }
   },
   "outputs": [],
   "source": [
    "df.info()"
   ]
  },
  {
   "cell_type": "markdown",
   "metadata": {
    "deletable": false,
    "editable": false,
    "nbgrader": {
     "checksum": "939fd3bcb602cdc20af4f2b4a1d52e59",
     "grade": false,
     "grade_id": "cell-d9ace78fc39d5f71",
     "locked": true,
     "schema_version": 1,
     "solution": false
    }
   },
   "source": [
    "###### Convert sex to a categorical variable"
   ]
  },
  {
   "cell_type": "code",
   "execution_count": null,
   "metadata": {
    "deletable": false,
    "nbgrader": {
     "checksum": "b7723dec69e0f9fc42484114923bd26d",
     "grade": false,
     "grade_id": "cell-dd73b02e9822b368",
     "locked": false,
     "schema_version": 1,
     "solution": true
    }
   },
   "outputs": [],
   "source": [
    "# YOUR CODE HERE\n",
    "# raise NotImplementedError()\n",
    "\n",
    "categorical_variables = ['SEX']\n",
    "df[categorical_variables] = df[categorical_variables].astype('category')\n"
   ]
  },
  {
   "cell_type": "code",
   "execution_count": null,
   "metadata": {
    "deletable": false,
    "editable": false,
    "nbgrader": {
     "checksum": "4093f7ece9b89b58b07796c672fa7029",
     "grade": true,
     "grade_id": "cell-d46cc0bef61a522f",
     "locked": true,
     "points": 2,
     "schema_version": 1,
     "solution": false
    }
   },
   "outputs": [],
   "source": []
  },
  {
   "cell_type": "code",
   "execution_count": null,
   "metadata": {
    "deletable": false,
    "editable": false,
    "nbgrader": {
     "checksum": "32c1a83deb51b319ecaccf780a6f34e4",
     "grade": false,
     "grade_id": "cell-19ead13178ad97c4",
     "locked": true,
     "schema_version": 1,
     "solution": false
    }
   },
   "outputs": [],
   "source": [
    "df.info()"
   ]
  },
  {
   "cell_type": "markdown",
   "metadata": {
    "deletable": false,
    "editable": false,
    "nbgrader": {
     "checksum": "e61fa9f37383de63bdea47911e0cd21c",
     "grade": false,
     "grade_id": "cell-a979b95cb71debf1",
     "locked": true,
     "schema_version": 1,
     "solution": false
    }
   },
   "source": [
    "###### Next, examine the dataframe"
   ]
  },
  {
   "cell_type": "code",
   "execution_count": null,
   "metadata": {
    "deletable": false,
    "nbgrader": {
     "checksum": "53cde3570a13de626d68838c7625147e",
     "grade": false,
     "grade_id": "cell-5b82d5671dedf8b3",
     "locked": false,
     "schema_version": 1,
     "solution": true
    }
   },
   "outputs": [],
   "source": [
    "#Use Panda's describe function to peak into the dataframe.\n",
    "# be sure to include the parameter include= \"all\" to grab the \n",
    "# columns where the statistic is Inappropriate for the datatype. \n",
    "# set the output to \"dfDescription' so the result can be printed\"\n",
    "# YOUR CODE HERE\n",
    "dfDescription = df.describe(include='all')\n",
    "# raise NotImplementedError()\n",
    "print (dfDescription)\n"
   ]
  },
  {
   "cell_type": "code",
   "execution_count": null,
   "metadata": {
    "deletable": false,
    "editable": false,
    "nbgrader": {
     "checksum": "fb074cfb62d69402650381e92f295c95",
     "grade": true,
     "grade_id": "cell-dbcee3078b4dbe91",
     "locked": true,
     "points": 2,
     "schema_version": 1,
     "solution": false
    }
   },
   "outputs": [],
   "source": []
  },
  {
   "cell_type": "markdown",
   "metadata": {
    "deletable": false,
    "editable": false,
    "nbgrader": {
     "checksum": "5cb5e6e69fc1848d5bd452f7173044c5",
     "grade": false,
     "grade_id": "cell-73cf5e801da56931",
     "locked": true,
     "schema_version": 1,
     "solution": false
    }
   },
   "source": [
    "###### Split dataframe into train and test subsets"
   ]
  },
  {
   "cell_type": "code",
   "execution_count": null,
   "metadata": {
    "deletable": false,
    "nbgrader": {
     "checksum": "93e74c11f698f7f4df2c9986e66844fe",
     "grade": false,
     "grade_id": "cell-b89432a79e197729",
     "locked": false,
     "schema_version": 1,
     "solution": true
    }
   },
   "outputs": [],
   "source": [
    "# Use train_test_split() to split the train and test sets.\n",
    "# Set test_size to 0.3\n",
    "# Set random_state to 42\n",
    "# The train and tests sets need to be called \"df_train\" and \"df_test\".\n",
    "# YOUR CODE HERE\n",
    "df_train, df_test = train_test_split(df, test_size=0.3, random_state=42)\n",
    "# raise NotImplementedError()"
   ]
  },
  {
   "cell_type": "code",
   "execution_count": null,
   "metadata": {
    "deletable": false,
    "editable": false,
    "nbgrader": {
     "checksum": "3245e0649337fde127c0544aa3d99e21",
     "grade": true,
     "grade_id": "cell-cc8e1a77afc974fc",
     "locked": true,
     "points": 2,
     "schema_version": 1,
     "solution": false
    }
   },
   "outputs": [],
   "source": []
  },
  {
   "cell_type": "markdown",
   "metadata": {
    "deletable": false,
    "editable": false,
    "nbgrader": {
     "checksum": "831f89b5dc5b91585c5ab868f3be9700",
     "grade": false,
     "grade_id": "cell-29639d58cb78498f",
     "locked": true,
     "schema_version": 1,
     "solution": false
    }
   },
   "source": [
    "###### Fit Multilinear OLS regression model using training dataset and save the result in 'est_train' variable. \n",
    "Print model summary"
   ]
  },
  {
   "cell_type": "code",
   "execution_count": null,
   "metadata": {
    "deletable": false,
    "nbgrader": {
     "checksum": "e1a3c8761e9b6f7945cbd2ff25020bfb",
     "grade": false,
     "grade_id": "cell-9861908308c8fccb",
     "locked": false,
     "schema_version": 1,
     "solution": true
    }
   },
   "outputs": [],
   "source": [
    "# YOUR CODE HERE\n",
    "\n",
    "est_train=ols(formula=\"Y ~ SEX+ AGE+ BMI + BP+ S1+ S2+ S3 + S5 +S6\", data=df).fit()\n",
    "# raise NotImplementedError()\n",
    "print(est_train.summary())"
   ]
  },
  {
   "cell_type": "code",
   "execution_count": null,
   "metadata": {
    "deletable": false,
    "editable": false,
    "nbgrader": {
     "checksum": "290c8e68ed5f5e481b00f2264dfda92d",
     "grade": true,
     "grade_id": "cell-0345ff06af3c981c",
     "locked": true,
     "points": 2,
     "schema_version": 1,
     "solution": false
    }
   },
   "outputs": [],
   "source": []
  },
  {
   "cell_type": "markdown",
   "metadata": {
    "deletable": false,
    "editable": false,
    "nbgrader": {
     "checksum": "4b3aff49c0569a462142101aaa2c15ae",
     "grade": false,
     "grade_id": "cell-e32461645a118ac1",
     "locked": true,
     "schema_version": 1,
     "solution": false
    }
   },
   "source": [
    "###### Extract non significant coef (p< .05: SEX + BMI + S3 + S5), rerun model."
   ]
  },
  {
   "cell_type": "code",
   "execution_count": null,
   "metadata": {
    "deletable": false,
    "nbgrader": {
     "checksum": "40e83aab97cd0a8886c8b90c6a03e362",
     "grade": false,
     "grade_id": "cell-55c4cc66a08cb317",
     "locked": false,
     "schema_version": 1,
     "solution": true
    }
   },
   "outputs": [],
   "source": [
    "# YOUR CODE HERE\n",
    "# raise NotImplementedError()\n",
    "est_train=ols(formula=\"Y ~ SEX+ BMI + S3 + S5\", data=df).fit()\n",
    "\n",
    "\n",
    "print(est_train.params)"
   ]
  },
  {
   "cell_type": "code",
   "execution_count": null,
   "metadata": {
    "deletable": false,
    "editable": false,
    "nbgrader": {
     "checksum": "a3e78c232d6cdad9c248b35a3d035c4c",
     "grade": true,
     "grade_id": "cell-ab9b9302fc763be6",
     "locked": true,
     "points": 2,
     "schema_version": 1,
     "solution": false
    }
   },
   "outputs": [],
   "source": []
  },
  {
   "cell_type": "markdown",
   "metadata": {
    "deletable": false,
    "editable": false,
    "nbgrader": {
     "checksum": "224ef207a05ea07615f11e9a23ab6ee6",
     "grade": false,
     "grade_id": "cell-40018aca656cdf20",
     "locked": true,
     "schema_version": 1,
     "solution": false
    }
   },
   "source": [
    "###### How well does it do on the test data? Lets use the model we trained on the training data to make predictions on the test data and then measure the R^2"
   ]
  },
  {
   "cell_type": "code",
   "execution_count": null,
   "metadata": {
    "deletable": false,
    "nbgrader": {
     "checksum": "0ec68a2fe77af8921bee8542133cd3aa",
     "grade": false,
     "grade_id": "cell-9cef15063e405f7b",
     "locked": false,
     "schema_version": 1,
     "solution": true
    }
   },
   "outputs": [],
   "source": [
    "# Set the r2 results to \"r2\"\n",
    "# YOUR CODE HERE\n",
    "# raise NotImplementedError()\n",
    "import statsmodels.api as sm\n",
    "\n",
    "# Ensure the test data has the same structure and preprocessing as the training set\n",
    "X_test = df_test[['SEX', 'BMI', 'S3', 'S5']]\n",
    "X_test = sm.add_constant(X_test)  # Adding a constant for the intercept\n",
    "\n",
    "# Making predictions using the fitted model\n",
    "y_pred = est_train.predict(X_test)\n",
    "\n",
    "# Actual 'Y' values from the test data\n",
    "y_true = df_test['Y']\n",
    "\n",
    "# Calculate the R-squared value\n",
    "from sklearn.metrics import r2_score\n",
    "r2 = r2_score(y_true, y_pred)\n",
    "print('OOS R-squared: '+ str(r2))\n"
   ]
  },
  {
   "cell_type": "code",
   "execution_count": null,
   "metadata": {
    "deletable": false,
    "editable": false,
    "nbgrader": {
     "checksum": "dae24ec83083bcef4ac870f58f8b3930",
     "grade": true,
     "grade_id": "cell-a6f931b40ee86175",
     "locked": true,
     "points": 2,
     "schema_version": 1,
     "solution": false
    }
   },
   "outputs": [],
   "source": []
  }
 ],
 "metadata": {
  "kernelspec": {
   "display_name": "Python 3",
   "language": "python",
   "name": "python3"
  },
  "language_info": {
   "codemirror_mode": {
    "name": "ipython",
    "version": 3
   },
   "file_extension": ".py",
   "mimetype": "text/x-python",
   "name": "python",
   "nbconvert_exporter": "python",
   "pygments_lexer": "ipython3",
   "version": "3.6.9"
  }
 },
 "nbformat": 4,
 "nbformat_minor": 2
}
