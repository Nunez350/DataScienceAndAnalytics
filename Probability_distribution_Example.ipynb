{
  "nbformat": 4,
  "nbformat_minor": 0,
  "metadata": {
    "colab": {
      "provenance": [],
      "include_colab_link": true
    },
    "kernelspec": {
      "name": "python3",
      "display_name": "Python 3"
    },
    "language_info": {
      "name": "python"
    }
  },
  "cells": [
    {
      "cell_type": "markdown",
      "metadata": {
        "id": "view-in-github",
        "colab_type": "text"
      },
      "source": [
        "<a href=\"https://colab.research.google.com/github/Nunez350/DataScienceAndAnalytics/blob/main/Probability_distribution_Example.ipynb\" target=\"_parent\"><img src=\"https://colab.research.google.com/assets/colab-badge.svg\" alt=\"Open In Colab\"/></a>"
      ]
    },
    {
      "cell_type": "markdown",
      "source": [
        "So far, you have had experience predicting data which fits probability distribution such as normal and binomial distribution. However, data does not always fit nicely against these well-known distribution types. When this occurs, one of your options is to use the Empirical Cumulative Distribution Function (ECDF) and historical data to predict future data values.\n",
        "\n",
        "The ECDF is calculated by ordering all of the unique observations in the data sample and calculating the cumulative probability for each as the number of observations less than or equal to a given observation divided by the total number of observations.\n",
        "\n",
        "In this try-it activity, you will use Python to create a sample dataset and analyze the ECDF against the generated data. First let us start by creating a non-normally distributed data set. We can do this by creating a two-peak dataset by combining two normal distributions."
      ],
      "metadata": {
        "id": "plHO4BaRItzl"
      }
    },
    {
      "cell_type": "code",
      "source": [
        "# example of a bimodal data sample\n",
        "import numpy as np\n",
        "from matplotlib import pyplot\n",
        "from numpy.random import normal\n",
        "from numpy import hstack\n",
        "# generate a sample\n",
        "sample1 = normal(loc=80, scale=5, size=300)\n",
        "sample2 = normal(loc=60, scale=5, size=700)\n",
        "sample = hstack((sample1, sample2))\n",
        "\n",
        "sample"
      ],
      "metadata": {
        "id": "DEBWgw3RG8ZC",
        "colab": {
          "base_uri": "https://localhost:8080/"
        },
        "outputId": "91b1d3d4-1305-46d3-fa6d-9f7b8f66c6be"
      },
      "execution_count": null,
      "outputs": [
        {
          "output_type": "execute_result",
          "data": {
            "text/plain": [
              "array([70.51798349, 73.04291015, 84.01927683, 72.62844316, 82.63413355,\n",
              "       79.73560222, 85.35137158, 79.09345301, 77.2533072 , 78.6316514 ,\n",
              "       76.00245031, 77.56761109, 81.11143417, 79.62751065, 85.08037486,\n",
              "       79.41193439, 75.09972067, 87.583548  , 75.71494144, 74.7972164 ,\n",
              "       76.58528524, 78.86202196, 80.95096095, 83.2979982 , 87.02758474,\n",
              "       78.48677737, 74.76769279, 86.23435025, 79.39889671, 82.19509565,\n",
              "       81.90225452, 78.93187693, 82.64282229, 68.80414914, 76.70013626,\n",
              "       78.99137055, 79.79615752, 60.76960217, 75.44742825, 76.61876459,\n",
              "       84.36848377, 79.47069861, 79.47776377, 78.77915945, 71.42869578,\n",
              "       78.85735732, 86.34130383, 72.07002822, 79.76578996, 72.97013885,\n",
              "       85.65758132, 76.64111882, 81.29388801, 81.75953221, 75.9972645 ,\n",
              "       76.69124817, 78.32654696, 86.4057943 , 72.11964054, 86.68318119,\n",
              "       84.7675382 , 81.99286666, 85.57798758, 81.40296013, 82.15494342,\n",
              "       78.54713994, 83.08831563, 80.20192189, 72.08749573, 78.23900925,\n",
              "       75.09292341, 91.03477065, 83.3884867 , 82.19778205, 74.06590586,\n",
              "       86.98752167, 86.61398667, 85.81289902, 77.31971951, 84.54606628,\n",
              "       80.28072851, 78.29484644, 82.16634694, 80.10323931, 80.4342693 ,\n",
              "       82.0247918 , 77.18772963, 86.15186597, 76.38730123, 84.40718256,\n",
              "       71.75282811, 86.75502186, 75.180749  , 80.21899432, 81.90046007,\n",
              "       82.46787937, 68.71274847, 81.25997031, 80.26059342, 87.24194232,\n",
              "       70.01742956, 74.97920235, 81.0778715 , 78.78993006, 87.91137814,\n",
              "       86.54068649, 73.56601822, 80.61809467, 88.69030741, 79.81453183,\n",
              "       70.79863867, 87.30573441, 80.37777874, 79.12776109, 77.15859092,\n",
              "       84.82101469, 76.03745005, 80.80722809, 71.41432257, 73.77618313,\n",
              "       85.55437419, 85.69685392, 86.83333379, 78.59265278, 71.80402368,\n",
              "       92.27081629, 85.68640699, 79.06513508, 76.76041627, 74.77767368,\n",
              "       78.64059423, 73.49278918, 75.1546273 , 71.84875518, 80.34499937,\n",
              "       80.5820675 , 85.67727591, 72.30465807, 74.4152155 , 73.2828728 ,\n",
              "       75.48618065, 78.52959624, 77.9301578 , 79.85604594, 80.43352414,\n",
              "       81.15041276, 84.53988432, 73.44146428, 73.52074471, 82.07292974,\n",
              "       78.48649872, 82.16470645, 79.20704059, 78.14307199, 82.16201883,\n",
              "       84.02262267, 80.67708943, 72.67585745, 80.13752439, 79.18969281,\n",
              "       77.78495262, 75.56030219, 73.26228   , 76.86073782, 74.8017525 ,\n",
              "       90.08431474, 73.52383233, 77.82857201, 82.63889388, 77.24009606,\n",
              "       84.33941289, 78.429619  , 79.55077089, 75.21997414, 75.22602485,\n",
              "       75.68691195, 86.31755268, 77.34077238, 78.77804693, 84.86392802,\n",
              "       81.64289169, 79.37776676, 90.51044609, 87.4144778 , 74.48320235,\n",
              "       82.55670298, 83.10329906, 79.63270905, 85.42504363, 82.22042851,\n",
              "       77.5449494 , 87.79493787, 88.19816882, 75.00408473, 88.45763016,\n",
              "       79.79017914, 73.15016561, 75.89004083, 74.72200489, 77.78035684,\n",
              "       79.08784769, 75.19934902, 78.55643376, 84.38135701, 84.21187203,\n",
              "       79.95428919, 70.26657468, 88.02038827, 80.51019488, 77.22117158,\n",
              "       73.34028784, 85.46454829, 82.37252293, 75.12653776, 75.86648347,\n",
              "       84.62515932, 84.26836656, 83.55170607, 77.20300106, 80.26525983,\n",
              "       92.10166443, 85.66238984, 73.2706024 , 79.50644877, 83.78407711,\n",
              "       66.23893662, 78.4998236 , 85.1402641 , 84.10480156, 87.56022367,\n",
              "       82.79012231, 70.9054846 , 72.09620372, 79.74810186, 80.20203999,\n",
              "       84.45424026, 77.76100634, 81.0426298 , 82.34958543, 78.11723648,\n",
              "       80.655751  , 71.35912951, 71.96147006, 90.75144547, 80.85396783,\n",
              "       78.39788628, 82.46989111, 72.82929567, 77.20549866, 86.20155483,\n",
              "       78.68519411, 85.67988836, 78.21087972, 79.39068903, 78.84117547,\n",
              "       76.19303503, 83.04453877, 73.93432995, 81.14584252, 87.28699588,\n",
              "       78.56763753, 77.85070393, 90.99740777, 78.50864249, 77.91643205,\n",
              "       82.57601811, 83.46640602, 77.86413703, 78.10731065, 75.4747623 ,\n",
              "       80.57788098, 84.33248988, 78.56826753, 77.63681311, 81.98910981,\n",
              "       83.34419925, 75.58854257, 71.98625531, 78.89031644, 82.54984473,\n",
              "       76.37152384, 75.47882527, 84.51304737, 76.76594594, 75.60934057,\n",
              "       85.17121935, 70.45371695, 88.7354868 , 81.24649775, 77.93858054,\n",
              "       87.43297296, 77.92364399, 81.89986263, 82.40461153, 77.87284507,\n",
              "       85.85297811, 73.7059686 , 87.60897541, 77.34327542, 71.22985352,\n",
              "       62.55112794, 61.31636309, 59.09692379, 57.33717319, 61.91828242,\n",
              "       60.44304603, 57.95060198, 61.47864128, 60.21859514, 50.10965357,\n",
              "       59.0357567 , 57.72147851, 63.6628426 , 57.80160103, 53.26200985,\n",
              "       56.18443451, 69.34806499, 53.18127839, 56.86457132, 68.47565865,\n",
              "       74.76728952, 58.31552621, 50.64876995, 52.82494041, 64.96362362,\n",
              "       64.8656547 , 60.39011426, 61.66059879, 63.73448815, 66.90333909,\n",
              "       53.29047943, 51.73050664, 61.44800854, 56.08686264, 53.47475935,\n",
              "       56.09993419, 66.68703704, 66.9747696 , 63.4084435 , 62.97509915,\n",
              "       63.97248283, 61.69221222, 59.40092834, 58.08580202, 65.34871941,\n",
              "       72.44706199, 61.36771368, 54.91052135, 54.08299063, 65.84165525,\n",
              "       65.74058251, 60.83435685, 64.64741876, 52.40070938, 58.09214561,\n",
              "       51.91112897, 58.84247425, 66.52006605, 60.951135  , 62.71984788,\n",
              "       48.54383559, 70.29131923, 56.01913247, 54.82713602, 55.81256663,\n",
              "       57.31826443, 63.18747019, 62.60301115, 66.34801577, 64.35425983,\n",
              "       62.39956808, 51.72070157, 61.120892  , 58.42809487, 60.75864873,\n",
              "       63.71780243, 57.83570377, 61.12303867, 51.65162133, 59.78335912,\n",
              "       59.86884312, 67.86823166, 51.37715577, 61.5878719 , 65.69952388,\n",
              "       57.40931728, 59.59566332, 57.33588662, 64.19801824, 61.04314845,\n",
              "       64.97231039, 58.18458631, 61.3705903 , 58.12912755, 57.88337877,\n",
              "       61.45627837, 61.17680848, 59.11200038, 59.02756703, 63.69469949,\n",
              "       54.18156908, 62.40929634, 60.236425  , 66.94663114, 55.2919422 ,\n",
              "       65.855331  , 57.62837539, 66.33682322, 62.15855868, 58.43684989,\n",
              "       60.07017879, 66.11670808, 59.55100099, 60.01279497, 61.87037412,\n",
              "       57.68492428, 54.71554795, 56.03407619, 65.13782425, 60.87502943,\n",
              "       62.75715842, 57.47008369, 52.64769285, 57.70181008, 57.94902368,\n",
              "       48.03966994, 62.84454441, 60.07437125, 55.11955448, 61.00417688,\n",
              "       61.98886644, 52.61285403, 54.3655667 , 60.7900093 , 66.03570512,\n",
              "       57.0897388 , 56.13986719, 65.37492944, 63.66770891, 48.41904261,\n",
              "       56.54144455, 59.3203809 , 64.31491226, 60.08917117, 64.05120929,\n",
              "       56.34265646, 62.18735726, 51.48072536, 64.15947601, 72.06141801,\n",
              "       62.02324241, 64.31089559, 70.34645679, 59.9870046 , 62.80973833,\n",
              "       65.85824948, 48.95759036, 59.71837848, 61.79629175, 56.54694818,\n",
              "       56.50152025, 59.85469791, 69.95650951, 67.27366057, 52.82387123,\n",
              "       67.56489912, 65.19228871, 56.85969375, 65.93503005, 64.52807456,\n",
              "       63.88401816, 68.33684946, 59.44218458, 61.44059066, 53.22903428,\n",
              "       56.04827067, 62.27475723, 58.29610074, 56.49228187, 58.56906329,\n",
              "       61.76563441, 65.84951333, 67.34400959, 62.25311608, 59.85459716,\n",
              "       60.49246388, 59.65256961, 63.26014317, 55.68170032, 52.52194429,\n",
              "       52.05393595, 57.79285033, 65.21024273, 62.00994681, 62.52192133,\n",
              "       55.37623835, 60.94961709, 64.6109481 , 59.66274953, 60.06609697,\n",
              "       59.63588347, 62.64891129, 59.81728258, 67.49687076, 56.92806564,\n",
              "       60.15599709, 56.39117291, 67.33194223, 62.75562179, 56.74048537,\n",
              "       64.31106776, 61.19687224, 58.77978337, 70.0456312 , 59.99279728,\n",
              "       68.84080244, 62.47964371, 64.50479135, 62.44319686, 56.31345786,\n",
              "       67.67549907, 61.8607641 , 54.73008126, 55.96557475, 60.19536261,\n",
              "       62.41323786, 55.68500903, 58.32952801, 63.77493321, 64.07542218,\n",
              "       64.83399206, 53.44547315, 59.85692279, 55.88436142, 47.73187175,\n",
              "       67.70225317, 62.15645569, 55.02229698, 61.37610413, 58.70139655,\n",
              "       63.46581257, 64.6363317 , 56.88657973, 60.38935131, 61.49872939,\n",
              "       47.01334204, 64.58641847, 66.94287031, 61.32519116, 57.35884463,\n",
              "       53.56035987, 51.23821301, 52.03186229, 59.7683116 , 58.99591892,\n",
              "       57.76784716, 56.70376705, 61.15927191, 63.66226725, 56.72639859,\n",
              "       67.68968916, 67.46593395, 55.73770788, 66.5378907 , 60.05242916,\n",
              "       60.56849089, 63.73350052, 63.28192954, 60.19002448, 62.1517091 ,\n",
              "       63.29649671, 52.36996205, 56.38837941, 59.34440395, 49.39488033,\n",
              "       54.83902603, 67.2269762 , 67.05356361, 56.38142478, 62.74950751,\n",
              "       54.22584822, 69.14578205, 49.64488229, 72.89915031, 57.47512815,\n",
              "       63.23561551, 66.71902849, 50.08427386, 61.99938256, 68.5621436 ,\n",
              "       58.24463875, 54.58140886, 66.93286955, 63.28392029, 60.98812734,\n",
              "       50.56832319, 54.51411818, 56.42139863, 64.37315216, 64.22882616,\n",
              "       61.52322404, 53.41364596, 56.16540361, 55.83544789, 60.41831637,\n",
              "       57.25534916, 57.31167051, 71.14116576, 65.00098294, 59.478938  ,\n",
              "       61.23680543, 56.08608617, 63.75312063, 60.94500056, 57.12846817,\n",
              "       63.04703674, 58.40324011, 57.94644064, 60.45530147, 67.28537183,\n",
              "       55.74960521, 59.60545863, 57.81155245, 59.56108416, 61.87413419,\n",
              "       59.9512381 , 60.90064582, 61.8000919 , 54.49059526, 55.47906041,\n",
              "       63.07158233, 63.13873082, 60.09749148, 67.44883934, 52.77166456,\n",
              "       65.97945195, 61.0571492 , 53.0214139 , 58.92306706, 62.60278475,\n",
              "       52.17297484, 62.3316949 , 61.61943324, 62.87514457, 54.02037287,\n",
              "       54.1959362 , 60.29963646, 56.50172539, 56.8443417 , 57.56730172,\n",
              "       59.11154925, 56.25016426, 69.53093154, 67.32322682, 62.39350978,\n",
              "       68.2156386 , 61.85726399, 63.76644968, 58.74213085, 65.34057704,\n",
              "       61.15412072, 59.43621393, 59.26558428, 55.76106713, 65.89763182,\n",
              "       62.54377133, 53.64865317, 65.12841535, 65.06599416, 62.92314407,\n",
              "       59.57510907, 57.0663141 , 67.2704293 , 61.6348716 , 60.90164186,\n",
              "       58.08453822, 58.22574593, 63.601614  , 57.38982945, 55.14197718,\n",
              "       61.79495849, 58.7532448 , 58.82480777, 67.25751297, 67.37008341,\n",
              "       59.22287535, 67.09542302, 65.86134149, 52.60234795, 59.10176852,\n",
              "       65.95045029, 59.4651249 , 63.78384933, 58.21377873, 61.61282891,\n",
              "       52.06052707, 56.8916838 , 56.33949185, 65.72978215, 57.19747664,\n",
              "       61.98964742, 61.44688734, 63.75571463, 62.49804243, 59.21463443,\n",
              "       54.97630334, 63.84993766, 55.81156629, 64.93752011, 51.95718024,\n",
              "       61.33906918, 64.85935444, 63.68008318, 53.33399105, 62.37428924,\n",
              "       43.19308042, 57.70981764, 62.50575095, 57.14384857, 58.06828412,\n",
              "       46.9807775 , 65.53557231, 63.71048863, 58.8711706 , 57.47275543,\n",
              "       59.23192352, 61.20120226, 63.49931895, 63.60100116, 60.2794679 ,\n",
              "       52.69989596, 56.47634109, 60.04428202, 57.81854467, 65.76310286,\n",
              "       58.90398822, 59.15886517, 75.42892644, 51.35691543, 66.11241031,\n",
              "       55.94276201, 71.60313254, 52.17766785, 67.09189122, 62.51734154,\n",
              "       62.44398521, 64.54615963, 66.31722434, 51.91329897, 53.24057951,\n",
              "       57.60764847, 64.78272151, 57.51535172, 61.76442411, 59.17620674,\n",
              "       48.00876957, 59.78553022, 55.34948547, 58.50287787, 62.9106544 ,\n",
              "       51.9990261 , 62.60564513, 51.68964386, 50.47633585, 59.20670158,\n",
              "       56.75880612, 56.41532391, 62.01149153, 61.00622121, 62.53570845,\n",
              "       58.63089613, 57.330611  , 59.88033124, 65.34098827, 54.8681608 ,\n",
              "       48.73790544, 62.18098284, 63.73492648, 62.35665273, 64.71267819,\n",
              "       55.1090902 , 67.06232171, 47.15954833, 64.43388608, 60.46748432,\n",
              "       62.38789824, 58.18622269, 55.49491958, 59.67983083, 53.99936487,\n",
              "       65.29455622, 56.55005032, 50.57916668, 70.04241363, 66.66544037,\n",
              "       56.85392892, 55.71309384, 63.22344634, 68.33969989, 51.44852311,\n",
              "       52.64734086, 71.24716072, 64.52409695, 60.92091578, 56.63116432,\n",
              "       58.53159405, 62.52734462, 56.88014857, 67.04114764, 63.96120472,\n",
              "       58.00855338, 70.89719938, 63.54902985, 57.28205986, 50.89771265,\n",
              "       63.02096411, 69.55697319, 59.58696171, 54.71080896, 60.44284032,\n",
              "       56.13398918, 61.8131884 , 62.23047016, 59.42809111, 61.47612152,\n",
              "       58.86801868, 67.93170496, 61.65136842, 59.48523586, 52.66930036,\n",
              "       55.29129282, 63.48755254, 65.35675266, 58.12183486, 64.91648882,\n",
              "       70.21237879, 55.87927594, 55.10729704, 61.7969257 , 62.42384777,\n",
              "       59.01388037, 56.39095835, 60.24357675, 56.26494306, 52.0642995 ,\n",
              "       53.28603414, 67.08714818, 64.63736909, 63.58702204, 65.50583914,\n",
              "       57.30818441, 68.96090423, 69.70224312, 49.28767101, 60.62363742,\n",
              "       61.98762855, 61.71904273, 58.52879635, 59.66479813, 68.82674741,\n",
              "       65.58824121, 62.85751878, 58.5101258 , 60.33196827, 65.28100072,\n",
              "       54.22646853, 56.4792846 , 66.15371654, 49.50419597, 53.86084088,\n",
              "       47.61123822, 56.59457892, 56.56190638, 56.91062639, 61.68317636,\n",
              "       68.26511332, 52.78485817, 58.71462782, 62.65738776, 65.5460424 ,\n",
              "       70.5991347 , 56.74825816, 57.8924081 , 57.24243121, 56.16407979,\n",
              "       71.40262099, 71.61430413, 62.00963257, 52.87044027, 53.95218811,\n",
              "       50.45899448, 52.93921565, 54.51393728, 60.92479149, 65.86381864,\n",
              "       58.41213676, 65.98264405, 58.46306919, 65.53856324, 67.59234274,\n",
              "       62.81693231, 59.87258897, 57.45310113, 55.57221811, 63.94739372,\n",
              "       64.28009736, 60.80122268, 65.65581785, 56.39166237, 58.30409736,\n",
              "       65.02488357, 64.36625077, 58.48219799, 63.78994265, 51.3444393 ,\n",
              "       58.82538105, 63.40166234, 68.10305742, 50.93099046, 62.3007513 ,\n",
              "       53.73446855, 63.0888679 , 47.03704109, 58.89533707, 58.25544039,\n",
              "       61.39278726, 60.32959045, 59.15188806, 66.65624364, 57.67067602,\n",
              "       59.00170646, 56.63499836, 52.89937944, 53.74431054, 64.90685225,\n",
              "       68.3480047 , 62.30835971, 63.08829067, 57.07730111, 55.76772831,\n",
              "       55.80793444, 53.98651602, 57.42028816, 63.55721113, 52.9223708 ,\n",
              "       61.06695005, 67.2519132 , 56.55849383, 59.25828231, 56.20178163,\n",
              "       63.43600225, 66.85362398, 67.26854785, 60.42026253, 53.8854784 ,\n",
              "       60.00190145, 59.7296749 , 54.04301713, 54.99613306, 59.19176302,\n",
              "       50.52687407, 54.78323729, 65.08171272, 61.05626353, 58.31975967,\n",
              "       58.24125971, 64.81485057, 61.51548641, 68.85545648, 63.1054032 ,\n",
              "       54.16723489, 57.91834626, 57.89632578, 59.23941496, 62.45606483,\n",
              "       56.53984346, 64.26588473, 59.22945919, 57.58412925, 58.15917956,\n",
              "       58.50168093, 57.53301989, 61.42694813, 62.62975358, 53.68052406,\n",
              "       60.4719366 , 61.80100927, 65.77766133, 62.23863423, 61.05064787,\n",
              "       61.19580708, 65.34654121, 55.33661649, 66.17083075, 58.6715391 ,\n",
              "       55.12188783, 70.01828272, 60.02326142, 59.60711115, 68.23809751])"
            ]
          },
          "metadata": {},
          "execution_count": 1
        }
      ]
    },
    {
      "cell_type": "markdown",
      "source": [
        "This dataset will represent an entire state's benchmark score on their state exam. Their scores can be any number between 0 and 100 (extra credit was not an option). Printing the data out like this does not do much, so let us view a histogram of the data to visuaslize it more."
      ],
      "metadata": {
        "id": "nlK4fi-BKPHJ"
      }
    },
    {
      "cell_type": "code",
      "source": [
        "pyplot.hist(sample, bins=50)\n",
        "pyplot.show()"
      ],
      "metadata": {
        "colab": {
          "base_uri": "https://localhost:8080/",
          "height": 430
        },
        "id": "fgNDd-imy4F6",
        "outputId": "739dafe7-31bb-4146-a2fd-5ca551fd4290"
      },
      "execution_count": null,
      "outputs": [
        {
          "output_type": "display_data",
          "data": {
            "text/plain": [
              "<Figure size 640x480 with 1 Axes>"
            ],
            "image/png": "[encoded data removed]"
          },
          "metadata": {}
        }
      ]
    },
    {
      "cell_type": "markdown",
      "source": [
        "As you can see, this is **not normally distributed**. Let us find some other information out about the exam scored."
      ],
      "metadata": {
        "id": "yYM0rw-gy6C2"
      }
    },
    {
      "cell_type": "code",
      "source": [
        "from tabulate import tabulate\n",
        "\n",
        "def range(x, axis=0):\n",
        "    return np.max(x, axis=axis) - np.min(x, axis=axis)\n",
        "\n",
        "data = [\n",
        "[\"Mean: \", np.mean(sample)],\n",
        "[\"Max Score\", np.max(sample)],\n",
        "[\"Min Score\", np.min(sample)],\n",
        "[\"Range:\", range(sample)]]\n",
        "\n",
        "print (tabulate(data))"
      ],
      "metadata": {
        "colab": {
          "base_uri": "https://localhost:8080/"
        },
        "id": "tbrZmxOW1G0F",
        "outputId": "6eaaf328-a13c-4a66-df1b-f8015ea075b3"
      },
      "execution_count": null,
      "outputs": [
        {
          "output_type": "stream",
          "name": "stdout",
          "text": [
            "---------  -------\n",
            "Mean:      65.8126\n",
            "Max Score  93.0328\n",
            "Min Score  44.8533\n",
            "Range:     48.1795\n",
            "---------  -------\n"
          ]
        }
      ]
    },
    {
      "cell_type": "markdown",
      "source": [
        "From this we can see the highest score was 94%, lowest was a 43% with an average of 65%. Let us use the empirical distribution function to find the probability of future student's receiving certain scores."
      ],
      "metadata": {
        "id": "MEmTsQA42-I3"
      }
    },
    {
      "cell_type": "code",
      "source": [
        "from matplotlib import pyplot\n",
        "from numpy.random import normal\n",
        "from numpy import hstack\n",
        "from statsmodels.distributions.empirical_distribution import ECDF\n",
        "\n",
        "ecdf = ECDF(sample)\n",
        "\n",
        "data = [\n",
        "[\"P(x<94): \", ecdf(94)],\n",
        "[\"P(x<44): \", ecdf(44)],\n",
        "[\"P(x<Mean):\", ecdf(np.mean(sample))]]\n",
        "\n",
        "print (tabulate(data))\n"
      ],
      "metadata": {
        "colab": {
          "base_uri": "https://localhost:8080/"
        },
        "id": "rqAw4oCGx2aC",
        "outputId": "2d939cef-26c4-412c-84e6-00107078c41f"
      },
      "execution_count": null,
      "outputs": [
        {
          "output_type": "stream",
          "name": "stdout",
          "text": [
            "----------  -----\n",
            "P(x<94):    1\n",
            "P(x<44):    0\n",
            "P(x<Mean):  0.615\n",
            "----------  -----\n"
          ]
        }
      ]
    },
    {
      "cell_type": "markdown",
      "source": [
        "One thing that is noteworthy about the previous step, is we discovered that although the average score was a 65%, there is an above average probability a random student's score is below the average. As seen in previous modules, statistically calculating what you'd expect a random varaible to be can often be vastly different than what you would discover using probability.\n",
        "\n",
        "Let us take a look at the probability a student's score falls within the following ranges."
      ],
      "metadata": {
        "id": "G0MvJH3p7aiv"
      }
    },
    {
      "cell_type": "code",
      "source": [
        "data = [\n",
        "[\"P(x>90): \", 1 - ecdf(90)],\n",
        "[\"P(x>75): \", 1 - ecdf(75)],\n",
        "[\"P(x<50):\", ecdf(50)]]\n",
        "\n",
        "print (tabulate(data))"
      ],
      "metadata": {
        "colab": {
          "base_uri": "https://localhost:8080/"
        },
        "id": "aGhYEcj18QNP",
        "outputId": "3699ca98-7d0f-4243-97b0-08345fa267d6"
      },
      "execution_count": null,
      "outputs": [
        {
          "output_type": "stream",
          "name": "stdout",
          "text": [
            "--------  -----\n",
            "P(x>90):  0.007\n",
            "P(x>75):  0.242\n",
            "P(x<50):  0.02\n",
            "--------  -----\n"
          ]
        }
      ]
    },
    {
      "cell_type": "markdown",
      "source": [
        "Lastley, let us visualize the explanation of this by printing out the empirical distribution's CDF."
      ],
      "metadata": {
        "id": "k8e9dWt0Cf0_"
      }
    },
    {
      "cell_type": "code",
      "source": [
        "\n",
        "# plot the cdf of the empirical distribution\n",
        "pyplot.plot(ecdf.x, ecdf.y)\n",
        "pyplot.show()"
      ],
      "metadata": {
        "colab": {
          "base_uri": "https://localhost:8080/",
          "height": 265
        },
        "id": "-deHMuqsHAZ1",
        "outputId": "915b7749-88f1-4240-9f94-e4abcd9d4724"
      },
      "execution_count": null,
      "outputs": [
        {
          "output_type": "display_data",
          "data": {
            "text/plain": [
              "<Figure size 432x288 with 1 Axes>"
            ],
            "image/png": "[encoded data removed]"
          },
          "metadata": {
            "needs_background": "light"
          }
        }
      ]
    }
  ]
}