{
 "cells": [
  {
   "cell_type": "markdown",
   "metadata": {
    "deletable": false,
    "editable": false,
    "nbgrader": {
     "checksum": "d0f193633ce91d02efa1389ef0f12162",
     "grade": false,
     "grade_id": "cell-6f12e9067a3a7aa7",
     "locked": true,
     "schema_version": 1,
     "solution": false
    }
   },
   "source": [
    "##### In this assignment you will be tasked with filling in missing code segments in order to analyse random variable's cobehavior."
   ]
  },
  {
   "cell_type": "markdown",
   "metadata": {
    "deletable": false,
    "editable": false,
    "nbgrader": {
     "checksum": "6c80557147b59f6d0a5fc76dafc97bd7",
     "grade": false,
     "grade_id": "cell-5f8ce257452ad4a4",
     "locked": true,
     "schema_version": 1,
     "solution": false
    }
   },
   "source": [
    "###### As a refresher, covarience can be thought of as the same as correlation, however unlike correlation, covarience is not limited between -1 and 1. Also, remeber a simple covarience matrix of two random variables is a representation of the below matrix: "
   ]
  },
  {
   "cell_type": "code",
   "execution_count": null,
   "metadata": {
    "deletable": false,
    "editable": false,
    "nbgrader": {
     "checksum": "7543f6d59a173c5fe7cefc82d66112f4",
     "grade": false,
     "grade_id": "cell-e190caf6c096b8e4",
     "locked": true,
     "schema_version": 1,
     "solution": false
    }
   },
   "outputs": [],
   "source": [
    "from tabulate import tabulate\n",
    "import matplotlib.pyplot as pyplot\n",
    "\n",
    "print(\"Covarience matrix of two random variables: \")\n",
    "data = [\n",
    "[\"Var(A) \", \"Covar(A,B)\" ],\n",
    "[\"Covar(B,A) \",\"Var(B)\" ]]\n",
    "\n",
    "print (tabulate(data))\n"
   ]
  },
  {
   "cell_type": "markdown",
   "metadata": {
    "deletable": false,
    "editable": false,
    "nbgrader": {
     "checksum": "d8f55a0e75bdb921027366a2d61dcd4e",
     "grade": false,
     "grade_id": "cell-5af6f8fc54d4ecc0",
     "locked": true,
     "schema_version": 1,
     "solution": false
    }
   },
   "source": [
    "###### Use Numpy to find and print the covarience matrix of these random vaiables when the bias is set to false. "
   ]
  },
  {
   "cell_type": "code",
   "execution_count": null,
   "metadata": {
    "deletable": false,
    "nbgrader": {
     "checksum": "189a1e0e3759be2df463c6e3517cbb28",
     "grade": false,
     "grade_id": "cell-a3ba356eba0f442d",
     "locked": false,
     "schema_version": 1,
     "solution": true
    }
   },
   "outputs": [],
   "source": [
    "import numpy as np\n",
    "\n",
    "A = [45,37,42,35,39]\n",
    "B = [38,31,26,28,33]\n",
    "\n",
    "#Create the variable \"covMatrix\" to hold the Numpy covarience matrix with bias = False.\n",
    "# YOUR CODE HERE\n",
    "covMatrix = np.cov(A, B, bias=False)\n",
    "covMatrix\n",
    "# raise NotImplementedError()"
   ]
  },
  {
   "cell_type": "code",
   "execution_count": null,
   "metadata": {
    "deletable": false,
    "editable": false,
    "nbgrader": {
     "checksum": "0c9233d8a3421c7ddabe962ba19a6321",
     "grade": true,
     "grade_id": "cell-a727d74942b99c7b",
     "locked": true,
     "points": 2,
     "schema_version": 1,
     "solution": false
    }
   },
   "outputs": [],
   "source": []
  },
  {
   "cell_type": "markdown",
   "metadata": {
    "deletable": false,
    "editable": false,
    "nbgrader": {
     "checksum": "c1917b73f58d519637fc9f24d0b6a7b9",
     "grade": false,
     "grade_id": "cell-4ec6eff85b553234",
     "locked": true,
     "schema_version": 1,
     "solution": false
    }
   },
   "source": [
    "###### Now use the same function on three random variables by creating a numpy array"
   ]
  },
  {
   "cell_type": "code",
   "execution_count": null,
   "metadata": {
    "deletable": false,
    "nbgrader": {
     "checksum": "358f3dda9cdb2185e3d4bf546d9079f6",
     "grade": false,
     "grade_id": "cell-6d85f0567c517bad",
     "locked": false,
     "schema_version": 1,
     "solution": true
    }
   },
   "outputs": [],
   "source": [
    "import numpy as np\n",
    "\n",
    "A = [45,37,42,35,39]\n",
    "B = [38,31,26,28,33]\n",
    "C = [10,15,17,21,12]\n",
    "\n",
    "# First arrange your data into a numpy array\n",
    "# Then assign \"covMatrix\" to the covarience matrix\n",
    "\n",
    "# YOUR CODE HERE\n",
    "data = np.array([A, B, C])\n",
    "covMatrix = np.cov(data, bias=False)\n",
    "covMatrix\n",
    "# raise NotImplementedError()\n"
   ]
  },
  {
   "cell_type": "code",
   "execution_count": null,
   "metadata": {
    "deletable": false,
    "editable": false,
    "nbgrader": {
     "checksum": "0963a04120aa0769a0471e949fc6a086",
     "grade": true,
     "grade_id": "cell-2a415a1e7ee47ee8",
     "locked": true,
     "points": 2,
     "schema_version": 1,
     "solution": false
    }
   },
   "outputs": [],
   "source": []
  },
  {
   "cell_type": "markdown",
   "metadata": {
    "deletable": false,
    "editable": false,
    "nbgrader": {
     "checksum": "5b23c8629d5adbb3d18678f5e19a5c21",
     "grade": false,
     "grade_id": "cell-6baba60d35b7a3b8",
     "locked": true,
     "schema_version": 1,
     "solution": false
    }
   },
   "source": [
    "###### Next, you will generate your own random variables, observe the mean and standard deviation, and then display the random variables with a scatter plot"
   ]
  },
  {
   "cell_type": "code",
   "execution_count": null,
   "metadata": {
    "deletable": false,
    "nbgrader": {
     "checksum": "0a86e838049d426b7a51424faf83bd72",
     "grade": false,
     "grade_id": "cell-aae3f6bea1033e9e",
     "locked": false,
     "schema_version": 1,
     "solution": true
    }
   },
   "outputs": [],
   "source": [
    "import random\n",
    "import matplotlib.pyplot as pyplot\n",
    "import numpy as np\n",
    "import numpy.random as rnd\n",
    "####### Used to genarate the data ###########\n",
    "random.seed(0)\n",
    "# prepare data\n",
    "data1 = 20 * rnd.randn(1000) + 100\n",
    "data2 = (data1 * .2 + (10 * rnd.randn(1000) + 500))\n",
    "\n",
    "# Find the mean and std of both data1 and data2. Assign the values to mean1, std1, mean2, std2 respectively.\n",
    "# Then use pyplot to display the scatter plot\n",
    "# YOUR CODE HERE\n",
    "# raise NotImplementedError()\n",
    "mean1 = np.mean(data1)\n",
    "std1 = np.std(data1)\n",
    "mean2 = np.mean(data2)\n",
    "std2 = np.std(data2)\n",
    "# USED FROM GRADING. DO NOT CHANGE\n",
    "fig = pyplot.scatter(data1, data2)\n",
    "pyplot.show()\n",
    "print('data1: mean=%.3f stdv=%.3f' % (mean1, std1))\n",
    "print('data2: mean=%.3f stdv=%.3f' % (mean2, std2))\n",
    "\n",
    "points = fig.get_offsets()"
   ]
  },
  {
   "cell_type": "code",
   "execution_count": null,
   "metadata": {
    "deletable": false,
    "editable": false,
    "nbgrader": {
     "checksum": "5b64b19ff0236fbcfa6f413c9df7d444",
     "grade": true,
     "grade_id": "cell-a5656f4da3dd7815",
     "locked": true,
     "points": 2,
     "schema_version": 1,
     "solution": false
    }
   },
   "outputs": [],
   "source": []
  },
  {
   "cell_type": "markdown",
   "metadata": {
    "deletable": false,
    "editable": false,
    "nbgrader": {
     "checksum": "3295ca62d31ee8436a793c9de9c77d50",
     "grade": false,
     "grade_id": "cell-50b31397648f57cf",
     "locked": true,
     "schema_version": 1,
     "solution": false
    }
   },
   "source": [
    "###### Next, You will use these numpy functions to find if there is correlation between the amount in advertising spent vs the total sales for the day. Start by loading in the data.csv file. In this file there are two columns, the column at the 0 index represents total amount spent on advertisement for a given day, the second column represents total sales for that same day. You will load in the file using numpy and display the two data fields as a scatter plot. "
   ]
  },
  {
   "cell_type": "code",
   "execution_count": null,
   "metadata": {
    "deletable": false,
    "nbgrader": {
     "checksum": "fbe0ba9e8aa384116646af5cc33c124c",
     "grade": false,
     "grade_id": "cell-ce9d28e072774023",
     "locked": false,
     "schema_version": 1,
     "solution": true
    }
   },
   "outputs": [],
   "source": [
    "from numpy import loadtxt\n",
    "# load the data using numpy's loadtext. Assign the output to variable \"data\". \n",
    "# The data has 2 columns, we will create a scatterplot with the data. \n",
    "\n",
    "# YOUR CODE HERE\n",
    "data = np.loadtxt('data.csv', delimiter=',')\n",
    "\n",
    "# raise NotImplementedError()\n",
    "\n",
    "# USED FROM GRADING. DO NOT CHANGE\n",
    "fig = pyplot.scatter(data[1], data[0])\n",
    "points = fig.get_offsets()\n",
    "pyplot.show()"
   ]
  },
  {
   "cell_type": "code",
   "execution_count": null,
   "metadata": {
    "deletable": false,
    "editable": false,
    "nbgrader": {
     "checksum": "2e23474c22c72af9ac9ef9425ea20b06",
     "grade": true,
     "grade_id": "cell-eff9b12b5ae48ff8",
     "locked": true,
     "points": 2,
     "schema_version": 1,
     "solution": false
    }
   },
   "outputs": [],
   "source": []
  },
  {
   "cell_type": "markdown",
   "metadata": {
    "deletable": false,
    "editable": false,
    "nbgrader": {
     "checksum": "7771c411673bdce0cef1c023e344f900",
     "grade": false,
     "grade_id": "cell-a1bd850af4c9c1a0",
     "locked": true,
     "schema_version": 1,
     "solution": false
    }
   },
   "source": [
    "###### Find the average amount spent on advertising and average total sales for the day. "
   ]
  },
  {
   "cell_type": "code",
   "execution_count": null,
   "metadata": {
    "deletable": false,
    "nbgrader": {
     "checksum": "c24c038daffa705bd0897242bf1e8b33",
     "grade": false,
     "grade_id": "cell-5cd107b0d7b74293",
     "locked": false,
     "schema_version": 1,
     "solution": true
    }
   },
   "outputs": [],
   "source": [
    "#Store the mean and std of the random variables as variable names mean1, mean2, std1, std2.\n",
    "\n",
    "# YOUR CODE HERE\n",
    "# raise NotImplementedError()\n",
    "# mean1, std1 = np.mean(data[:, 0]), np.std(data[:, 0])\n",
    "# mean2, std2 = np.mean(data[:, 1]), np.std(data[:, 1])\n",
    "\n",
    "mean1 = np.mean(data[:, 0]) \n",
    "std1 = np.std(data[:, 0])    \n",
    "mean2 = np.mean(data[:, 1]) \n",
    "std2 = np.std(data[:, 1])   \n",
    "print('Amount spent on Ads : mean=%.3f     stdv=%.3f' % (mean1, std1))\n",
    "print('Daily Sales:          mean=%.3f    stdv=%.3f' % (mean2, std2)) "
   ]
  },
  {
   "cell_type": "code",
   "execution_count": null,
   "metadata": {
    "deletable": false,
    "editable": false,
    "nbgrader": {
     "checksum": "c5d49c6f46e49ac3cb0baf9eff096892",
     "grade": true,
     "grade_id": "cell-a90fd44bb265e6f1",
     "locked": true,
     "points": 2,
     "schema_version": 1,
     "solution": false
    }
   },
   "outputs": [],
   "source": []
  },
  {
   "cell_type": "markdown",
   "metadata": {
    "deletable": false,
    "editable": false,
    "nbgrader": {
     "checksum": "b29e77d47fcd4fa2de71c4de817c91c6",
     "grade": false,
     "grade_id": "cell-799eb3fea70a69ea",
     "locked": true,
     "schema_version": 1,
     "solution": false
    }
   },
   "source": [
    "###### Find the covarience matrix of your data set. "
   ]
  },
  {
   "cell_type": "code",
   "execution_count": null,
   "metadata": {
    "deletable": false,
    "nbgrader": {
     "checksum": "7ccb8da9c2b0f3c832877ba679559c3a",
     "grade": false,
     "grade_id": "cell-c9f2753d7d6c7d39",
     "locked": false,
     "schema_version": 1,
     "solution": true
    }
   },
   "outputs": [],
   "source": [
    "# Now get the Covarience matrix and assign it to variable \"covMatrix\" . \n",
    "# YOUR CODE HERE\n",
    "covMatrix = np.cov(data, bias=False)\n",
    "# raise NotImplementedError()\n",
    "print(\"Covariant Martix\")\n",
    "print (covMatrix)"
   ]
  },
  {
   "cell_type": "code",
   "execution_count": null,
   "metadata": {
    "deletable": false,
    "editable": false,
    "nbgrader": {
     "checksum": "e9dacf645cd36299d3f05e1ca6c6c104",
     "grade": true,
     "grade_id": "cell-64bb650dec6e17b6",
     "locked": true,
     "points": 3,
     "schema_version": 1,
     "solution": false
    }
   },
   "outputs": [],
   "source": []
  }
 ],
 "metadata": {
  "kernelspec": {
   "display_name": "Python 3",
   "language": "python",
   "name": "python3"
  },
  "language_info": {
   "codemirror_mode": {
    "name": "ipython",
    "version": 3
   },
   "file_extension": ".py",
   "mimetype": "text/x-python",
   "name": "python",
   "nbconvert_exporter": "python",
   "pygments_lexer": "ipython3",
   "version": "3.6.9"
  }
 },
 "nbformat": 4,
 "nbformat_minor": 5
}
