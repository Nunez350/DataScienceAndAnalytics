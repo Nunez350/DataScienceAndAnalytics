{
 "cells": [
  {
   "cell_type": "markdown",
   "metadata": {
    "deletable": false,
    "editable": false,
    "nbgrader": {
     "checksum": "4ba799efd73f09901a4f692b520c43f6",
     "grade": false,
     "grade_id": "cell-efbddbc90ff8db80",
     "locked": true,
     "schema_version": 1,
     "solution": false
    }
   },
   "source": [
    "###### Start by loading the following data into a pandas Dataframe. This data will represent Airline Customer accounts with the first column being how many months the account has been active and the second column being the Account balanced measured in points. Start by displaying the head of the dataframe.  "
   ]
  },
  {
   "cell_type": "code",
   "execution_count": null,
   "metadata": {
    "deletable": false,
    "editable": false,
    "nbgrader": {
     "checksum": "038e911a29ce60cd87bf28e3840777c8",
     "grade": false,
     "grade_id": "cell-d95cfe2bcdd43844",
     "locked": true,
     "schema_version": 1,
     "solution": false
    }
   },
   "outputs": [],
   "source": [
    "import pandas as pd\n",
    "import numpy as np\n",
    "import warnings \n",
    "import matplotlib.pyplot as plot\n",
    "import seaborn as sns\n",
    "import plotly.express as pxp\n",
    "import plotly.graph_objs as gph\n",
    "from sklearn import metrics\n",
    "from sklearn.metrics import silhouette_score\n",
    "from sklearn.cluster import KMeans\n",
    "import matplotlib.pyplot as plt\n",
    "\n",
    "warnings.simplefilter(action=\"ignore\", category=FutureWarning)\n",
    "  \n",
    "# create data\n",
    "data = pd.DataFrame([[60,41000],\n",
    "[61,46000],\n",
    "[62,49000],\n",
    "[63,39000],\n",
    "[62,45000],\n",
    "[61,50000],\n",
    "[60,46000],\n",
    "[50,76000],\n",
    "[57,82000],\n",
    "[60,58000],\n",
    "[55,80000],\n",
    "[54,81000],\n",
    "[57,84000],\n",
    "[53,81000],\n",
    "[32,90000],\n",
    "[36,86000],\n",
    "[39,90000],\n",
    "[31,91000],\n",
    "[37,85000],\n",
    "[39,88000]],\n",
    "    columns=['AccountAge', 'CurrentMileageBalance'])\n",
    "data.head()"
   ]
  },
  {
   "cell_type": "markdown",
   "metadata": {
    "deletable": false,
    "editable": false,
    "nbgrader": {
     "checksum": "3ff46fde8ed8500fd69a9ef2af7d4a07",
     "grade": false,
     "grade_id": "cell-56e89434f3ffc000",
     "locked": true,
     "schema_version": 1,
     "solution": false
    }
   },
   "source": [
    "###### Next, show the distribution of the acount age and balance using Seaborn's distplot function. Hint: plot each column of data. "
   ]
  },
  {
   "cell_type": "code",
   "execution_count": null,
   "metadata": {
    "deletable": false,
    "nbgrader": {
     "checksum": "df5b3b6927e64530f5b073afcc69f737",
     "grade": false,
     "grade_id": "cell-883dee0533aa4d16",
     "locked": false,
     "schema_version": 1,
     "solution": true
    }
   },
   "outputs": [],
   "source": [
    "plot.figure(figsize = (22, 10))\n",
    "plotnum = 1\n",
    "\n",
    "#Your answer below:\n",
    "# YOUR CODE HERE\n",
    "# raise NotImplementedError()\n",
    "plt.subplot(1, 2, 1)  \n",
    "sns.distplot(data['AccountAge'], kde=True, color='blue')\n",
    "plt.title('Distribution of Account Age')\n",
    "\n",
    "\n",
    "plt.subplot(1, 2, 2)  \n",
    "sns.distplot(data['CurrentMileageBalance'], kde=True, color='green')\n",
    "plt.title('Distribution of Current Mileage Balance')\n",
    "\n",
    "mileageCoords = sns.distplot(data['CurrentMileageBalance']).get_lines()[0].get_data()\n",
    "    \n",
    "plot.tight_layout()\n",
    "plot.show()"
   ]
  },
  {
   "cell_type": "code",
   "execution_count": null,
   "metadata": {
    "deletable": false,
    "editable": false,
    "nbgrader": {
     "checksum": "2614d83fe5f46d7dfe0403e938867276",
     "grade": true,
     "grade_id": "cell-315ccf111a4d8f24",
     "locked": true,
     "points": 2,
     "schema_version": 1,
     "solution": false
    }
   },
   "outputs": [],
   "source": []
  },
  {
   "cell_type": "markdown",
   "metadata": {
    "deletable": false,
    "editable": false,
    "nbgrader": {
     "checksum": "16eab8b576e916a74099e05447d21aa4",
     "grade": false,
     "grade_id": "cell-4ccea08d68abeadd",
     "locked": true,
     "schema_version": 1,
     "solution": false
    }
   },
   "source": [
    "###### Next, create a bar graph to show the distribution of account ages given the provided ranges. "
   ]
  },
  {
   "cell_type": "code",
   "execution_count": null,
   "metadata": {
    "deletable": false,
    "nbgrader": {
     "checksum": "a834882458c39e37c9b63f34bb89846b",
     "grade": false,
     "grade_id": "cell-ec4d86981ef2ba13",
     "locked": false,
     "schema_version": 1,
     "solution": true
    }
   },
   "outputs": [],
   "source": [
    "# Next, create a bar graph to show the distribution of account ages given the provided ranges.\n",
    "\n",
    "# Create the following variables:\n",
    "# time_above_71, time_56_70, time_41_55, time_26_40, and time_0_25\n",
    "# YOUR CODE HERE\n",
    "# raise NotImplementedError()\n",
    "time_0_25 = data[(data['AccountAge'] >= 0) & (data['AccountAge'] <= 25)]\n",
    "time_26_40 = data[(data['AccountAge'] > 25) & (data['AccountAge'] <= 40)]\n",
    "time_41_55 = data[(data['AccountAge'] > 40) & (data['AccountAge'] <= 55)]\n",
    "time_56_70 = data[(data['AccountAge'] > 55) & (data['AccountAge'] <= 70)]\n",
    "time_above_71 = data[data['AccountAge'] > 70]\n",
    "#Code below is used for plotting the graph and grade. Do not change.     \n",
    "\n",
    "x_age_ax = ['0-25', '26-40', '41-55', '56-70', '71+']\n",
    "y_age_ax = [len(time_0_25.values), len(time_26_40.values), len(time_41_55.values), \n",
    "            len(time_56_70.values), len(time_above_71.values)]\n",
    "\n",
    "pxp.bar(data_frame = data, x = x_age_ax, y = y_age_ax, color = x_age_ax,\n",
    "       title = 'Count of Accounts by Age (Months)')"
   ]
  },
  {
   "cell_type": "code",
   "execution_count": null,
   "metadata": {
    "deletable": false,
    "editable": false,
    "nbgrader": {
     "checksum": "09bacd18ecd65a6bc5aefb4a1a0e60df",
     "grade": true,
     "grade_id": "cell-3ee174ba15326bc0",
     "locked": true,
     "points": 2,
     "schema_version": 1,
     "solution": false
    }
   },
   "outputs": [],
   "source": [
    "\n"
   ]
  },
  {
   "cell_type": "markdown",
   "metadata": {
    "deletable": false,
    "editable": false,
    "nbgrader": {
     "checksum": "6b29f7ad19ca53b439f3ed86fcd15aa5",
     "grade": false,
     "grade_id": "cell-0aa1c25942757810",
     "locked": true,
     "schema_version": 1,
     "solution": false
    }
   },
   "source": [
    "###### Next, use the elbow method to visualize desired K value. Hint: check K in range 1 through 12. Set random_state=0."
   ]
  },
  {
   "cell_type": "code",
   "execution_count": null,
   "metadata": {
    "deletable": false,
    "nbgrader": {
     "checksum": "98129dc3aeedaec1cba5daa6b53157d8",
     "grade": false,
     "grade_id": "cell-cfe1d12a54067ce1",
     "locked": false,
     "schema_version": 1,
     "solution": true
    }
   },
   "outputs": [],
   "source": [
    "x_input = data.loc[:, ['AccountAge', 'CurrentMileageBalance']].values\n",
    "\n",
    "\n",
    "wcss = []\n",
    "\n",
    "# set random_state=0 in KMeans()\n",
    "# YOUR CODE HERE\n",
    "# raise NotImplementedError()\n",
    "for i in range(1, 12):\n",
    "    kmeans = KMeans(n_clusters=i, init='k-means++', max_iter=300, n_init=10, random_state=0)\n",
    "    kmeans.fit(x_input)\n",
    "    wcss.append(kmeans.inertia_)\n",
    "\n",
    "# Code below used for plotting the graph and grading. Do not change\n",
    "plot.figure(figsize=(15,8))\n",
    "\n",
    "plot.plot(range(1, 12), wcss, linewidth=2, marker='8')\n",
    "plot.title('Elbow method\\n', fontsize=18)\n",
    "plot.xlabel('K')\n",
    "plot.ylabel('WCSS')\n",
    "ax = plot.gca() # get axis handle\n",
    "line = ax.get_lines()[0]\n",
    "xydata = line.get_xydata()\n",
    "plot.show()\n"
   ]
  },
  {
   "cell_type": "code",
   "execution_count": null,
   "metadata": {
    "deletable": false,
    "editable": false,
    "nbgrader": {
     "checksum": "f61afbb0eb7acebdc2e4bca96657aeb5",
     "grade": true,
     "grade_id": "cell-5984bbb5fd9f27c9",
     "locked": true,
     "points": 2,
     "schema_version": 1,
     "solution": false
    }
   },
   "outputs": [],
   "source": [
    "\n"
   ]
  },
  {
   "cell_type": "markdown",
   "metadata": {
    "deletable": false,
    "editable": false,
    "nbgrader": {
     "checksum": "0108867d85156fe2209aff1ca17f5736",
     "grade": false,
     "grade_id": "cell-2ab91a1e0f7fd2d4",
     "locked": true,
     "schema_version": 1,
     "solution": false
    }
   },
   "source": [
    "###### Display the matrix which holds the cluster center coordinate points. "
   ]
  },
  {
   "cell_type": "code",
   "execution_count": null,
   "metadata": {
    "deletable": false,
    "nbgrader": {
     "checksum": "f1c20a0d203737ec285ec75e189d6280",
     "grade": false,
     "grade_id": "cell-591f67fc3c507a44",
     "locked": false,
     "schema_version": 1,
     "solution": true
    }
   },
   "outputs": [],
   "source": [
    "k_means=KMeans(n_clusters=3, random_state=0)\n",
    "\n",
    "# YOUR CODE HERE\n",
    "# raise NotImplementedError()\n",
    "k_means.fit(data[['AccountAge', 'CurrentMileageBalance']])\n",
    "data['Cluster'] = k_means.fit_predict(data[['AccountAge', 'CurrentMileageBalance']])\n",
    "\n",
    "#USED FOR GRADING -- DO NOT CHANGE\n",
    "ClusterCenters = k_means.cluster_centers_"
   ]
  },
  {
   "cell_type": "code",
   "execution_count": null,
   "metadata": {
    "deletable": false,
    "editable": false,
    "nbgrader": {
     "checksum": "0ae8b606a9364f8513d1a5c99264da9e",
     "grade": true,
     "grade_id": "cell-eceb9b9b4d97ff2f",
     "locked": true,
     "points": 2,
     "schema_version": 1,
     "solution": false
    }
   },
   "outputs": [],
   "source": []
  },
  {
   "cell_type": "markdown",
   "metadata": {
    "deletable": false,
    "editable": false,
    "nbgrader": {
     "checksum": "330bea4c150b79f25ee3c0d97fac062c",
     "grade": false,
     "grade_id": "cell-052a8b2d1c072b86",
     "locked": true,
     "schema_version": 1,
     "solution": false
    }
   },
   "source": [
    "###### Now display the Cluster graph"
   ]
  },
  {
   "cell_type": "code",
   "execution_count": null,
   "metadata": {
    "deletable": false,
    "nbgrader": {
     "checksum": "afbae361799ad7341c96c8f5b10d239c",
     "grade": false,
     "grade_id": "cell-cc5a24c8b61bddae",
     "locked": false,
     "schema_version": 1,
     "solution": true
    }
   },
   "outputs": [],
   "source": [
    "plot.figure(figsize = (16, 10))\n",
    "\n",
    "# YOUR CODE HERE\n",
    "plt.figure(figsize=(16, 10))\n",
    "colors = ['red', 'green', 'blue']\n",
    "scatter_plots = []\n",
    "for cluster in range(3):\n",
    "    cluster_data = data[data['Cluster'] == cluster]\n",
    "    scatter = plt.scatter(cluster_data['AccountAge'], cluster_data['CurrentMileageBalance'],\n",
    "                          s=100, c=colors[cluster], label=f'Cluster {cluster}')\n",
    "    scatter_plots.append(scatter)\n",
    "\n",
    "# Plotting the centroids\n",
    "plt.scatter(ClusterCenters[:, 0], ClusterCenters[:, 1], s=300, c='yellow', marker='*', \n",
    "            edgecolor='black', linewidth=1.5, label='Centroids')\n",
    "\n",
    "#Code below is used to plot the graph and for grading. Do not change. \n",
    "plot.title('Airline Points Clusters\\n', fontsize = 20)\n",
    "plot.xlabel('AccountAge')\n",
    "plot.ylabel('CurrentMileageBalance')\n",
    "plot.show()\n",
    "\n",
    "# points = fig.get_offsets()\n",
    "points = [sp.get_offsets().data for sp in scatter_plots]\n"
   ]
  },
  {
   "cell_type": "code",
   "execution_count": null,
   "metadata": {
    "deletable": false,
    "editable": false,
    "nbgrader": {
     "checksum": "31c03c85d01594d6e10fbabcf926a6cc",
     "grade": true,
     "grade_id": "cell-78e9f3810cdbcc1b",
     "locked": true,
     "points": 2,
     "schema_version": 1,
     "solution": false
    }
   },
   "outputs": [],
   "source": []
  }
 ],
 "metadata": {
  "kernelspec": {
   "display_name": "Python 3",
   "language": "python",
   "name": "python3"
  },
  "language_info": {
   "codemirror_mode": {
    "name": "ipython",
    "version": 3
   },
   "file_extension": ".py",
   "mimetype": "text/x-python",
   "name": "python",
   "nbconvert_exporter": "python",
   "pygments_lexer": "ipython3",
   "version": "3.6.9"
  }
 },
 "nbformat": 4,
 "nbformat_minor": 2
}
