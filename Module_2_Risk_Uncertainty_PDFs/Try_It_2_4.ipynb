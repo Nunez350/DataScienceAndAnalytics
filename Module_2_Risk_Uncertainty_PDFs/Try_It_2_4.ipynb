{
  "nbformat": 4,
  "nbformat_minor": 0,
  "metadata": {
    "colab": {
      "provenance": [],
      "collapsed_sections": []
    },
    "kernelspec": {
      "name": "python3",
      "display_name": "Python 3"
    },
    "language_info": {
      "name": "python"
    }
  },
  "cells": [
    {
      "cell_type": "markdown",
      "source": [
        "In Module 2 video 4, you learned how to find the normal distribution of multiple variables. Let us answer the question: Given that for one store we needed 1212 units of inventory, how much inventory does the retailer need in the warehouse to guarantee a fill rate of 95% in each of two stores with similar sales patterns?"
      ],
      "metadata": {
        "id": "5a1cDuKbbi_M"
      }
    },
    {
      "cell_type": "markdown",
      "source": [
        "Let's first import all required libraries."
      ],
      "metadata": {
        "id": "y7rjIvk9XmWJ"
      }
    },
    {
      "cell_type": "code",
      "source": [
        "import numpy as np\n",
        "import matplotlib.pyplot as plt\n",
        "import scipy\n",
        "from scipy import stats\n",
        "import math"
      ],
      "metadata": {
        "id": "bwY4iLJXb6I4"
      },
      "execution_count": null,
      "outputs": []
    },
    {
      "cell_type": "markdown",
      "source": [
        "Let's define the variables that will be used.  "
      ],
      "metadata": {
        "id": "vQwH1zcXXt4h"
      }
    },
    {
      "cell_type": "code",
      "execution_count": null,
      "metadata": {
        "id": "gb-T37dQYgZl"
      },
      "outputs": [],
      "source": [
        "#Expected Total Demand \n",
        "expTotDemand = 800\n",
        "\n",
        "#Number of Stores\n",
        "numStores = 2\n",
        "\n",
        "#Independant Standard deviation\n",
        "iStd = 250\n",
        "\n",
        "#Number of iterations\n",
        "n=1000"
      ]
    },
    {
      "cell_type": "markdown",
      "source": [
        "Next, calculate the standard deviation and the mean then plot the probability density function."
      ],
      "metadata": {
        "id": "tPS1o5cNbZuG"
      }
    },
    {
      "cell_type": "code",
      "source": [
        "#Guaranteed supply if all stores get 1000 units\n",
        "guaranteedSupply = 1000 * numStores\n",
        "\n",
        "# Calculate the mean\n",
        "mean = expTotDemand * numStores\n",
        "\n",
        "#Calculate standard deviation \n",
        "std = math.sqrt(numStores) * iStd\n",
        "\n",
        "#configure the line space\n",
        "x = np.linspace(0, 1600 * numStores, n)\n",
        "\n",
        "pdf_result = stats.norm.pdf(x,loc=mean,scale=std)\n",
        "\n",
        "#Lable and plot the PDF against the pre-defined line space\n",
        "plt.plot(x,pdf_result)\n",
        "plt.xlabel('Demand')\n",
        "plt.ylabel('Density')\n",
        "plt.title(\"Probability Density Function\")\n",
        "plt.show()"
      ],
      "metadata": {
        "colab": {
          "base_uri": "https://localhost:8080/",
          "height": 295
        },
        "id": "PHtKzFF4bI7C",
        "outputId": "4a09f5f2-8a26-499d-8979-1ca7c84fc813"
      },
      "execution_count": null,
      "outputs": [
        {
          "output_type": "display_data",
          "data": {
            "text/plain": [
              "<Figure size 432x288 with 1 Axes>"
            ],
            "image/png": "[encoded data removed]"
          },
          "metadata": {
            "needs_background": "light"
          }
        }
      ]
    },
    {
      "cell_type": "markdown",
      "source": [
        "Find the fill rate if 1000 units are in stock at each location. "
      ],
      "metadata": {
        "id": "S43eh6imb0U8"
      }
    },
    {
      "cell_type": "code",
      "source": [
        "cdf = stats.norm.cdf(guaranteedSupply,mean,std)\n",
        "cdf"
      ],
      "metadata": {
        "colab": {
          "base_uri": "https://localhost:8080/"
        },
        "id": "5udZz_EmeUIt",
        "outputId": "6c4c4102-ca9d-4445-fab9-4feed21344ed"
      },
      "execution_count": null,
      "outputs": [
        {
          "output_type": "execute_result",
          "data": {
            "text/plain": [
              "0.8710504823538303"
            ]
          },
          "metadata": {},
          "execution_count": 8
        }
      ]
    },
    {
      "cell_type": "markdown",
      "source": [
        "Next, calculate the Percentile point function (CDF inverse) to find how many units will be needed to fill 95% of orders."
      ],
      "metadata": {
        "id": "p1dvX1hqcOiQ"
      }
    },
    {
      "cell_type": "code",
      "source": [
        "ppf = stats.norm.ppf(0.95,mean,std)\n",
        "ppf"
      ],
      "metadata": {
        "colab": {
          "base_uri": "https://localhost:8080/"
        },
        "id": "mVmYU7-ReZEk",
        "outputId": "f21bb772-9b84-4018-f257-659832287345"
      },
      "execution_count": null,
      "outputs": [
        {
          "output_type": "execute_result",
          "data": {
            "text/plain": [
              "2181.543576838337"
            ]
          },
          "metadata": {},
          "execution_count": 9
        }
      ]
    },
    {
      "cell_type": "markdown",
      "source": [
        "Plot the PPF against the normal distribution curve. "
      ],
      "metadata": {
        "id": "GSv6I78Bccpz"
      }
    },
    {
      "cell_type": "code",
      "source": [
        "#Plot the PPF as a line \n",
        "plt.axvline(ppf)\n",
        "plt.plot(x,pdf_result)\n",
        "\n",
        "plt.xlabel('Demand')\n",
        "plt.ylabel('Density')\n",
        "plt.title(\"PDF of a Normal Distribution with mean=800 and SD=250\")\n",
        "plt.show()"
      ],
      "metadata": {
        "colab": {
          "base_uri": "https://localhost:8080/",
          "height": 295
        },
        "id": "FtDwg7szeePj",
        "outputId": "cbe5c3bd-4be0-45c3-8bd2-a53cafdef1cd"
      },
      "execution_count": null,
      "outputs": [
        {
          "output_type": "display_data",
          "data": {
            "text/plain": [
              "<Figure size 432x288 with 1 Axes>"
            ],
            "image/png": "[encoded data removed]"
          },
          "metadata": {
            "needs_background": "light"
          }
        }
      ]
    },
    {
      "cell_type": "markdown",
      "source": [
        "Now let's see how we can perform our claculations on 5 independant stores. Change the corresponding variable "
      ],
      "metadata": {
        "id": "Srn-PuP6ff44"
      }
    },
    {
      "cell_type": "code",
      "source": [
        "#Number of Stores\n",
        "numStores = 12"
      ],
      "metadata": {
        "id": "sqF3h-f_ferQ"
      },
      "execution_count": null,
      "outputs": []
    },
    {
      "cell_type": "markdown",
      "source": [
        "Now re-calculate the dependant variables."
      ],
      "metadata": {
        "id": "33-K0BMyc63C"
      }
    },
    {
      "cell_type": "code",
      "source": [
        "#Guaranteed supply if all stores get 1000 units\n",
        "guaranteedSupply = 1000 * numStores\n",
        "\n",
        "#Calculate the mean\n",
        "mean = expTotDemand * numStores\n",
        "\n",
        "#Calculate standard deviation \n",
        "std = math.sqrt(numStores) * iStd\n"
      ],
      "metadata": {
        "id": "UhncEQboc6IC"
      },
      "execution_count": null,
      "outputs": []
    },
    {
      "cell_type": "markdown",
      "source": [
        "Display the new Probability density function. "
      ],
      "metadata": {
        "id": "u10olFEAdWEe"
      }
    },
    {
      "cell_type": "code",
      "source": [
        "#configure the line space\n",
        "x = np.linspace(0, 1600 * numStores, n)\n",
        "\n",
        "pdf_result = stats.norm.pdf(x,loc=mean,scale=std)\n",
        "\n",
        "#Lable and plot the PDF against the pre-defined line space\n",
        "plt.plot(x,pdf_result)\n",
        "plt.xlabel('Demand')\n",
        "plt.ylabel('Density')\n",
        "plt.title(\"Probability Density Function\")\n",
        "plt.show()"
      ],
      "metadata": {
        "colab": {
          "base_uri": "https://localhost:8080/",
          "height": 295
        },
        "id": "gUmQhJ1adaXF",
        "outputId": "03cabea2-c2e0-4753-d602-efeebbbbb543"
      },
      "execution_count": null,
      "outputs": [
        {
          "output_type": "display_data",
          "data": {
            "text/plain": [
              "<Figure size 432x288 with 1 Axes>"
            ],
            "image/png": "[encoded data removed]"
          },
          "metadata": {
            "needs_background": "light"
          }
        }
      ]
    },
    {
      "cell_type": "markdown",
      "source": [
        "Now what is the fill rate for all the sores comnined if each store gets 1000 units(guaranteed supply)? "
      ],
      "metadata": {
        "id": "KmGw-1oDhANG"
      }
    },
    {
      "cell_type": "code",
      "source": [
        "cdf = stats.norm.cdf(guaranteedSupply,mean,std)\n",
        "cdf"
      ],
      "metadata": {
        "colab": {
          "base_uri": "https://localhost:8080/"
        },
        "id": "eZSH7-f9fe1Y",
        "outputId": "42959869-7ccc-4fc6-f65e-25d9cc634097"
      },
      "execution_count": null,
      "outputs": [
        {
          "output_type": "execute_result",
          "data": {
            "text/plain": [
              "0.9972081915968106"
            ]
          },
          "metadata": {},
          "execution_count": 10
        }
      ]
    },
    {
      "cell_type": "markdown",
      "source": [
        "How much inventory is needed for 95% fill rate at all the stores? "
      ],
      "metadata": {
        "id": "RO1IbCxRg7DH"
      }
    },
    {
      "cell_type": "code",
      "source": [
        "ppf = stats.norm.ppf(0.95,mean,std)\n",
        "ppf"
      ],
      "metadata": {
        "colab": {
          "base_uri": "https://localhost:8080/"
        },
        "id": "eKpPs8mZfe-E",
        "outputId": "25e2d9e5-5c58-4230-ce0b-f555b0ff1c95"
      },
      "execution_count": null,
      "outputs": [
        {
          "output_type": "execute_result",
          "data": {
            "text/plain": [
              "11024.485026446948"
            ]
          },
          "metadata": {},
          "execution_count": 11
        }
      ]
    },
    {
      "cell_type": "markdown",
      "source": [
        "Let's plot the normal distribution along with 95% fill rate "
      ],
      "metadata": {
        "id": "TZYviZt0hXP6"
      }
    },
    {
      "cell_type": "code",
      "source": [
        "#Plot the PPF as a line \n",
        "plt.axvline(ppf)\n",
        "plt.plot(x,pdf_result)\n",
        "\n",
        "plt.xlabel('Demand')\n",
        "plt.ylabel('Density')\n",
        "plt.title(\"PDF of a Normal Distribution with mean=800 and SD=250\")\n",
        "plt.show()"
      ],
      "metadata": {
        "colab": {
          "base_uri": "https://localhost:8080/",
          "height": 295
        },
        "id": "S-xg7NPeffH1",
        "outputId": "bcf32e74-35ac-43d1-e200-69d6e5b84407"
      },
      "execution_count": null,
      "outputs": [
        {
          "output_type": "display_data",
          "data": {
            "text/plain": [
              "<Figure size 432x288 with 1 Axes>"
            ],
            "image/png": "[encoded data removed]"
          },
          "metadata": {
            "needs_background": "light"
          }
        }
      ]
    }
  ]
}
