{
  "cells": [
    {
      "cell_type": "markdown",
      "metadata": {
        "id": "view-in-github",
        "colab_type": "text"
      },
      "source": [
        "<a href=\"https://colab.research.google.com/github/Nunez350/DataScienceAndAnalytics/blob/main/Module8%20/CollaborativeFiltering/softcompute.ipynb\" target=\"_parent\"><img src=\"https://colab.research.google.com/assets/colab-badge.svg\" alt=\"Open In Colab\"/></a>"
      ]
    },
    {
      "cell_type": "code",
      "source": [
        "# Install the standard papackages\n",
        "!pip install numpy\n",
        "!pip install pandas\n",
        "!pip install fancyimpute"
      ],
      "metadata": {
        "colab": {
          "base_uri": "https://localhost:8080/"
        },
        "id": "TjtGXnY8aQPv",
        "outputId": "32d0177b-dc93-432f-a8e9-9ec86c27e921"
      },
      "execution_count": null,
      "outputs": [
        {
          "output_type": "stream",
          "name": "stdout",
          "text": [
            "Requirement already satisfied: numpy in /usr/local/lib/python3.10/dist-packages (1.25.2)\n",
            "Requirement already satisfied: pandas in /usr/local/lib/python3.10/dist-packages (2.0.3)\n",
            "Requirement already satisfied: python-dateutil>=2.8.2 in /usr/local/lib/python3.10/dist-packages (from pandas) (2.8.2)\n",
            "Requirement already satisfied: pytz>=2020.1 in /usr/local/lib/python3.10/dist-packages (from pandas) (2023.4)\n",
            "Requirement already satisfied: tzdata>=2022.1 in /usr/local/lib/python3.10/dist-packages (from pandas) (2024.1)\n",
            "Requirement already satisfied: numpy>=1.21.0 in /usr/local/lib/python3.10/dist-packages (from pandas) (1.25.2)\n",
            "Requirement already satisfied: six>=1.5 in /usr/local/lib/python3.10/dist-packages (from python-dateutil>=2.8.2->pandas) (1.16.0)\n",
            "Collecting fancyimpute\n",
            "  Downloading fancyimpute-0.7.0.tar.gz (25 kB)\n",
            "  Preparing metadata (setup.py) ... \u001b[?25l\u001b[?25hdone\n",
            "Collecting knnimpute>=0.1.0 (from fancyimpute)\n",
            "  Downloading knnimpute-0.1.0.tar.gz (8.3 kB)\n",
            "  Preparing metadata (setup.py) ... \u001b[?25l\u001b[?25hdone\n",
            "Requirement already satisfied: scikit-learn>=0.24.2 in /usr/local/lib/python3.10/dist-packages (from fancyimpute) (1.2.2)\n",
            "Requirement already satisfied: cvxpy in /usr/local/lib/python3.10/dist-packages (from fancyimpute) (1.3.4)\n",
            "Requirement already satisfied: cvxopt in /usr/local/lib/python3.10/dist-packages (from fancyimpute) (1.3.2)\n",
            "Requirement already satisfied: pytest in /usr/local/lib/python3.10/dist-packages (from fancyimpute) (7.4.4)\n",
            "Collecting nose (from fancyimpute)\n",
            "  Downloading nose-1.3.7-py3-none-any.whl (154 kB)\n",
            "\u001b[2K     \u001b[90m━━━━━━━━━━━━━━━━━━━━━━━━━━━━━━━━━━━━━━━━\u001b[0m \u001b[32m154.7/154.7 kB\u001b[0m \u001b[31m1.7 MB/s\u001b[0m eta \u001b[36m0:00:00\u001b[0m\n",
            "\u001b[?25hRequirement already satisfied: six in /usr/local/lib/python3.10/dist-packages (from knnimpute>=0.1.0->fancyimpute) (1.16.0)\n",
            "Requirement already satisfied: numpy>=1.10 in /usr/local/lib/python3.10/dist-packages (from knnimpute>=0.1.0->fancyimpute) (1.25.2)\n",
            "Requirement already satisfied: scipy>=1.3.2 in /usr/local/lib/python3.10/dist-packages (from scikit-learn>=0.24.2->fancyimpute) (1.11.4)\n",
            "Requirement already satisfied: joblib>=1.1.1 in /usr/local/lib/python3.10/dist-packages (from scikit-learn>=0.24.2->fancyimpute) (1.4.2)\n",
            "Requirement already satisfied: threadpoolctl>=2.0.0 in /usr/local/lib/python3.10/dist-packages (from scikit-learn>=0.24.2->fancyimpute) (3.5.0)\n",
            "Requirement already satisfied: osqp>=0.4.1 in /usr/local/lib/python3.10/dist-packages (from cvxpy->fancyimpute) (0.6.2.post8)\n",
            "Requirement already satisfied: ecos>=2 in /usr/local/lib/python3.10/dist-packages (from cvxpy->fancyimpute) (2.0.13)\n",
            "Requirement already satisfied: scs>=1.1.6 in /usr/local/lib/python3.10/dist-packages (from cvxpy->fancyimpute) (3.2.4.post1)\n",
            "Requirement already satisfied: setuptools>65.5.1 in /usr/local/lib/python3.10/dist-packages (from cvxpy->fancyimpute) (67.7.2)\n",
            "Requirement already satisfied: iniconfig in /usr/local/lib/python3.10/dist-packages (from pytest->fancyimpute) (2.0.0)\n",
            "Requirement already satisfied: packaging in /usr/local/lib/python3.10/dist-packages (from pytest->fancyimpute) (24.0)\n",
            "Requirement already satisfied: pluggy<2.0,>=0.12 in /usr/local/lib/python3.10/dist-packages (from pytest->fancyimpute) (1.5.0)\n",
            "Requirement already satisfied: exceptiongroup>=1.0.0rc8 in /usr/local/lib/python3.10/dist-packages (from pytest->fancyimpute) (1.2.1)\n",
            "Requirement already satisfied: tomli>=1.0.0 in /usr/local/lib/python3.10/dist-packages (from pytest->fancyimpute) (2.0.1)\n",
            "Requirement already satisfied: qdldl in /usr/local/lib/python3.10/dist-packages (from osqp>=0.4.1->cvxpy->fancyimpute) (0.1.7.post2)\n",
            "Building wheels for collected packages: fancyimpute, knnimpute\n",
            "  Building wheel for fancyimpute (setup.py) ... \u001b[?25l\u001b[?25hdone\n",
            "  Created wheel for fancyimpute: filename=fancyimpute-0.7.0-py3-none-any.whl size=29881 sha256=19bed00d3eaa68fed3321e86a9da328065d44dcb182b813250fae8b432ecb7ef\n",
            "  Stored in directory: /root/.cache/pip/wheels/7b/0c/d3/ee82d1fbdcc0858d96434af108608d01703505d453720c84ed\n",
            "  Building wheel for knnimpute (setup.py) ... \u001b[?25l\u001b[?25hdone\n",
            "  Created wheel for knnimpute: filename=knnimpute-0.1.0-py3-none-any.whl size=11330 sha256=3c76ec03645e5265feb8b79e4f01ae4a2ab3df364ab48b17097090ac78925ea7\n",
            "  Stored in directory: /root/.cache/pip/wheels/46/06/a5/45a724630562413c374e29c08732411d496092408b3a7bf754\n",
            "Successfully built fancyimpute knnimpute\n",
            "Installing collected packages: nose, knnimpute, fancyimpute\n",
            "Successfully installed fancyimpute-0.7.0 knnimpute-0.1.0 nose-1.3.7\n"
          ]
        }
      ]
    },
    {
      "cell_type": "code",
      "execution_count": null,
      "metadata": {
        "id": "Dc14ot9HZip0"
      },
      "outputs": [],
      "source": [
        "# Impute necessary packages\n",
        "import numpy as np\n",
        "import pandas as pd\n",
        "from fancyimpute import BiScaler\n",
        "from soft_impute import SoftImpute\n",
        "from functionsCF import GenerateTrainingSet"
      ]
    },
    {
      "cell_type": "code",
      "execution_count": null,
      "metadata": {
        "collapsed": true,
        "id": "xfTn4cgoZip1"
      },
      "outputs": [],
      "source": [
        "# Read jester data from files- point to where data is stored, small set of jester dataset\n",
        "# 100836 (rows), userId\tjokeId\trating\ttimestamp (columns)\n",
        "# read in values only\n",
        "# name the variable \"rating\"\n",
        "# YOUR CODE HERE\n",
        "# file_path = 'jester-data-3.csv'\n",
        "rating = pd.read_csv('ratings.csv', sep=',').values\n",
        "# raise NotImplementedError()"
      ]
    },
    {
      "cell_type": "code",
      "source": [
        "# Show the top 5 rows\n",
        "print(rating[:5, :])"
      ],
      "metadata": {
        "colab": {
          "base_uri": "https://localhost:8080/"
        },
        "id": "I0egiv-TaukG",
        "outputId": "ae8cf060-7036-452a-ffb7-f3bf8b9a15ae"
      },
      "execution_count": null,
      "outputs": [
        {
          "output_type": "stream",
          "name": "stdout",
          "text": [
            "[[1.00000000e+00 1.00000000e+00 4.00000000e+00 9.64982703e+08]\n",
            " [1.00000000e+00 3.00000000e+00 4.00000000e+00 9.64981247e+08]\n",
            " [1.00000000e+00 6.00000000e+00 4.00000000e+00 9.64982224e+08]\n",
            " [1.00000000e+00 4.70000000e+01 5.00000000e+00 9.64983815e+08]\n",
            " [1.00000000e+00 5.00000000e+01 5.00000000e+00 9.64982931e+08]]\n"
          ]
        }
      ]
    },
    {
      "cell_type": "code",
      "source": [
        "# First, create an empty matrix\n",
        "matrix_incomplete = np.zeros((len(np.unique(rating[:,0])), len(np.unique(rating[:,1]))))"
      ],
      "metadata": {
        "id": "BF1-Cf54a1jR"
      },
      "execution_count": null,
      "outputs": []
    },
    {
      "cell_type": "code",
      "source": [
        "# Second, Since some movies don't have any ratings, we only use the movies that have ratings.\n",
        "# Here we correspondingly change the movie IDs to make each column has ratings.\n",
        "# create an array of all movie IDs\n",
        "usedID = np.unique(rating[:, 1])"
      ],
      "metadata": {
        "id": "rrvAmjidbCqv"
      },
      "execution_count": null,
      "outputs": []
    },
    {
      "cell_type": "code",
      "source": [
        "# replace the movie IDs by the their positions in the array we just created\n",
        "for i in range(len(rating[:,1])):\n",
        "    rating[:,1][i] = np.where(usedID==rating[:,1][i])[0][0] + 1"
      ],
      "metadata": {
        "id": "fVBsfCFMbLY3"
      },
      "execution_count": null,
      "outputs": []
    },
    {
      "cell_type": "code",
      "source": [
        "# all components are nan by default\n",
        "matrix_incomplete[:] = np.nan\n",
        "# create the index pair of the components with ratings\n",
        "indices = np.array(rating[:,0] - 1).astype(int), np.array(rating[:,1] - 1).astype(int)\n",
        "# change the values in the corresponding positions to the known rating information\n",
        "matrix_incomplete[indices] = rating[:,2]"
      ],
      "metadata": {
        "id": "oa7AZaE_bOv5"
      },
      "execution_count": null,
      "outputs": []
    },
    {
      "cell_type": "code",
      "source": [
        "train_indices, validation_indices = GenerateTrainingSet(rating[:,0], rating[:,1], 0.70)"
      ],
      "metadata": {
        "id": "8T5TwRbtbSdX"
      },
      "execution_count": null,
      "outputs": []
    },
    {
      "cell_type": "code",
      "source": [
        "matrix_train = matrix_incomplete.copy()\n",
        "matrix_train[:] = np.nan\n",
        "matrix_train[train_indices] = matrix_incomplete[train_indices]"
      ],
      "metadata": {
        "id": "gNrN7JrrbYk5"
      },
      "execution_count": null,
      "outputs": []
    },
    {
      "cell_type": "code",
      "source": [
        "# Create the BiScaler model\n",
        "biscaler = BiScaler(scale_rows=False, scale_columns=False, max_iters=50, verbose=False)"
      ],
      "metadata": {
        "id": "NpZLOY1gbcLr"
      },
      "execution_count": null,
      "outputs": []
    },
    {
      "cell_type": "code",
      "source": [
        "# Rescale both rows and columns to have zero mean\n",
        "matrix_train_normalized = biscaler.fit_transform(matrix_train)"
      ],
      "metadata": {
        "id": "npHlSDOObfxd"
      },
      "execution_count": null,
      "outputs": []
    },
    {
      "cell_type": "code",
      "source": [
        "# Use softImpute to complete the matrix. J means the number of archetypes and rand_seed means the\n",
        "# seed for the inner random number generator, verbose control whether outputting algorithm logs.\n",
        "softImpute = SoftImpute(J = 4, maxit = 200, random_seed = 1, verbose = False)"
      ],
      "metadata": {
        "id": "2IX62Yc3btJL"
      },
      "execution_count": null,
      "outputs": []
    },
    {
      "cell_type": "code",
      "source": [
        "matrix_train_softImpute = softImpute.fit(matrix_train_normalized)\n",
        "# Use the softImpute model to create the predicted matrix. If we set copyto as True, then it\n",
        "# directly change the value of matrix_train_normalized\n",
        "matrix_train_filled_normalized = matrix_train_softImpute.predict(matrix_train_normalized, copyto = False)\n",
        "# Inverse transformation to undo the scaling\n",
        "matrix_train_filled = biscaler.inverse_transform(matrix_train_filled_normalized)"
      ],
      "metadata": {
        "id": "I_hVMSmvbjEO"
      },
      "execution_count": null,
      "outputs": []
    },
    {
      "cell_type": "code",
      "source": [],
      "metadata": {
        "id": "mJM7hKYPboBg"
      },
      "execution_count": null,
      "outputs": []
    }
  ],
  "metadata": {
    "kernelspec": {
      "display_name": "Python 3",
      "language": "python",
      "name": "python3"
    },
    "language_info": {
      "codemirror_mode": {
        "name": "ipython",
        "version": 3
      },
      "file_extension": ".py",
      "mimetype": "text/x-python",
      "name": "python",
      "nbconvert_exporter": "python",
      "pygments_lexer": "ipython3",
      "version": "3.6.3"
    },
    "colab": {
      "provenance": [],
      "include_colab_link": true
    }
  },
  "nbformat": 4,
  "nbformat_minor": 0
}